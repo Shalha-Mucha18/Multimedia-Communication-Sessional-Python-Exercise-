{
  "nbformat": 4,
  "nbformat_minor": 0,
  "metadata": {
    "colab": {
      "provenance": []
    },
    "kernelspec": {
      "name": "python3",
      "display_name": "Python 3"
    },
    "language_info": {
      "name": "python"
    }
  },
  "cells": [
    {
      "cell_type": "code",
      "source": [
        "# problem 1:Write a program that uses input to prompt a user for their name and then welcomes them\n",
        "name=input(\"What is your name? \")\n",
        "print(\"Hello,\"+name)"
      ],
      "metadata": {
        "id": "1OCYSXvUci4_",
        "colab": {
          "base_uri": "https://localhost:8080/"
        },
        "outputId": "e0e8b3bd-adcf-4668-8ee4-c70502ce7348"
      },
      "execution_count": null,
      "outputs": [
        {
          "output_type": "stream",
          "name": "stdout",
          "text": [
            "What is your name? Musa\n",
            "Hello,Musa\n"
          ]
        }
      ]
    },
    {
      "cell_type": "code",
      "source": [
        "#problem 2:Write a program to prompt the user for hours and rate per hour to compute gross pay.\n",
        "hours=float(input(\"Enter hours worked: \"))\n",
        "rate=float(input(\"Enter rate per hours: \"))\n",
        "print(\"pay: \"+str(hours*rate))\n"
      ],
      "metadata": {
        "colab": {
          "base_uri": "https://localhost:8080/"
        },
        "id": "--WVKh4rPpa7",
        "outputId": "b222bd37-723a-4387-defa-dbd1cc9635a2"
      },
      "execution_count": null,
      "outputs": [
        {
          "output_type": "stream",
          "name": "stdout",
          "text": [
            "Enter hours worked: 35\n",
            "Enter rate per hours: 2.75\n",
            "pay: 96.25\n"
          ]
        }
      ]
    },
    {
      "cell_type": "code",
      "source": [
        "# problem 3:Write a program that prompts the user for a Celsius temperature, convert the temperature to Fahrenheit, and print out the converted temperature.\n",
        "celsius=float(input(\"Enter temperature in celsius: \"))\n",
        "fahrenheit=(celsius*9/5)+32\n",
        "print(\"Temparature in Farenheit:\"+str(fahrenheit))\n"
      ],
      "metadata": {
        "colab": {
          "base_uri": "https://localhost:8080/"
        },
        "id": "lYXpYeR4RQ0M",
        "outputId": "98d4e850-7f2d-41b5-9be0-782bd4c0bb19"
      },
      "execution_count": null,
      "outputs": [
        {
          "output_type": "stream",
          "name": "stdout",
          "text": [
            "Enter temperature in celsius: 35\n",
            "Temparature in Farenheit:95.0\n"
          ]
        }
      ]
    },
    {
      "cell_type": "code",
      "source": [
        "#problem 04:Write a program that prompts the user for the height and width of a rectangle and calculate the area, diagonal, and perimeter.\n",
        "\n",
        "import math\n",
        "height=float(input(\"Enter the height: \"))\n",
        "width=float(input(\"Enter the width: \"))\n",
        "area=height*width\n",
        "perimeter=2*(height+width)\n",
        "diagonal = math.sqrt(height ** 2 + width ** 2)\n",
        "print(\"Area: \",str(area))\n",
        "print(\"Diagonal: \",str(diagonal))\n",
        "print(\"Perimeter:\",str(perimeter))"
      ],
      "metadata": {
        "colab": {
          "base_uri": "https://localhost:8080/"
        },
        "id": "znw1MFUSTaNw",
        "outputId": "c9373eaf-0839-4cbc-97a1-3292f173b7f5"
      },
      "execution_count": null,
      "outputs": [
        {
          "output_type": "stream",
          "name": "stdout",
          "text": [
            "Enter the height: 5\n",
            "Enter the width: 7\n",
            "Area:  35.0\n",
            "Diagonal:  8.602325267042627\n",
            "Perimeter: 24.0\n"
          ]
        }
      ]
    },
    {
      "cell_type": "code",
      "source": [
        "#problem 05: Write a Python program to calculate the area of a trapezoid.\n",
        "height = float(input(\"Enter the height: \"))\n",
        "base1 = float(input(\"Enter base 1 value: \"))\n",
        "base2 = float(input(\"Enter base 2 value: \"))\n",
        "print(\"Area:\",str(0.5 * height * (base1 + base2)))"
      ],
      "metadata": {
        "colab": {
          "base_uri": "https://localhost:8080/"
        },
        "id": "89x-GW7KYu79",
        "outputId": "bfa3610e-df02-44db-b431-82086fc50fdb"
      },
      "execution_count": null,
      "outputs": [
        {
          "output_type": "stream",
          "name": "stdout",
          "text": [
            "Enter the height: 5\n",
            "Enter base 1 value: 18\n",
            "Enter base 2 value: 17\n",
            "Area: 87.5\n"
          ]
        }
      ]
    },
    {
      "cell_type": "code",
      "source": [
        "#problem 06:Write a Python program to calculate the surface volume and area of a cylinder.\n",
        "import math\n",
        "a=int(input(\"Enter Height: \"))\n",
        "b=int(input(\"Enter Radius: \"))\n",
        "print(f'Volume:{math.pi*b**2*a}')\n",
        "print(f'Area: {2*math.pi*b*(a+b)}')\n"
      ],
      "metadata": {
        "colab": {
          "base_uri": "https://localhost:8080/"
        },
        "id": "3TuzP71uaCBi",
        "outputId": "b044bda6-d679-464f-99e8-c77e8ee0a501"
      },
      "execution_count": null,
      "outputs": [
        {
          "output_type": "stream",
          "name": "stdout",
          "text": [
            "Enter Height: 5\n",
            "Enter Radius: 10\n",
            "Volume:1570.7963267948967\n",
            "Area: 942.4777960769379\n"
          ]
        }
      ]
    },
    {
      "cell_type": "code",
      "source": [
        "#problem 07:Write a Python program to calculate the arc length of an angle and the sector area of a circle\n",
        "import math\n",
        "radius = float(input(\"Enter Radius: \"))\n",
        "angle_degrees = float(input(\"Enter Angle: \"))\n",
        "angle_radians = math.radians(angle_degrees)\n",
        "print(\"Arc Length: \",str(radius * angle_radians))\n",
        "print(\"Sector Area: \",str(0.5 * radius**2 * angle_radians))"
      ],
      "metadata": {
        "colab": {
          "base_uri": "https://localhost:8080/"
        },
        "id": "TUJfodtTa4WY",
        "outputId": "5f86e577-f855-455c-abec-bcd0c1677a48"
      },
      "execution_count": null,
      "outputs": [
        {
          "output_type": "stream",
          "name": "stdout",
          "text": [
            "Enter Radius: 5\n",
            "Enter Angle: 60\n",
            "Arc Length:  5.235987755982988\n",
            "Sector Area:  13.08996938995747\n"
          ]
        }
      ]
    }
  ]
}
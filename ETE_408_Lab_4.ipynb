{
  "nbformat": 4,
  "nbformat_minor": 0,
  "metadata": {
    "colab": {
      "provenance": [],
      "name": "ETE_408_Lab_4.ipynb",
      "authorship_tag": "ABX9TyNASpOHKA+7rk78zFqdy1X0",
      "include_colab_link": true
    },
    "kernelspec": {
      "name": "python3",
      "display_name": "Python 3"
    },
    "language_info": {
      "name": "python"
    }
  },
  "cells": [
    {
      "cell_type": "markdown",
      "metadata": {
        "id": "view-in-github",
        "colab_type": "text"
      },
      "source": [
        "<a href=\"https://colab.research.google.com/github/Shalha-Mucha18/Multimedia-Communication-Sessional-Python-Exercise-/blob/main/ETE_408_Lab_4.ipynb\" target=\"_parent\"><img src=\"https://colab.research.google.com/assets/colab-badge.svg\" alt=\"Open In Colab\"/></a>"
      ]
    },
    {
      "cell_type": "code",
      "execution_count": null,
      "metadata": {
        "colab": {
          "base_uri": "https://localhost:8080/"
        },
        "id": "TmcLdY3eOCK5",
        "outputId": "a7b342d5-ed3c-4753-af4d-deb2c5a55c12"
      },
      "outputs": [
        {
          "output_type": "stream",
          "name": "stdout",
          "text": [
            "Float Number: 0.8475\n"
          ]
        }
      ],
      "source": [
        "#problem 1\n",
        "str = 'X-DSPAM-Confidence:0.8475'\n",
        "pos=str.find(':')\n",
        "x=float(str[pos+1:])\n",
        "print(\"Float Number:\",x)"
      ]
    },
    {
      "cell_type": "code",
      "source": [
        "#problem 2\n",
        "string=input(\"Enter sample string: \")\n",
        "if len(string)>=2:\n",
        "  x=string[:2]+string[-2:]\n",
        "  print(\"Expected Result :\",x)\n",
        "else:\n",
        "  print(\"Empty Sstring\")"
      ],
      "metadata": {
        "colab": {
          "base_uri": "https://localhost:8080/"
        },
        "id": "ObpIkYKyOZdb",
        "outputId": "a3be7422-7aa0-4a13-adce-b19adcbc3ceb"
      },
      "execution_count": null,
      "outputs": [
        {
          "output_type": "stream",
          "name": "stdout",
          "text": [
            "Enter sample string: w3resource\n",
            "Expected Result : w3ce\n"
          ]
        }
      ]
    },
    {
      "cell_type": "code",
      "source": [
        "#problem 3\n",
        "string=input(\"Enter Sample String: \")\n",
        "if len(string)<3:\n",
        "  print(\"Sample String: \",string)\n",
        "elif string.endswith('ing'):\n",
        "  print(\"Sample String:\",string+\"ily\")\n",
        "else:\n",
        "  print(\"Sample String:\",string+'ing')"
      ],
      "metadata": {
        "colab": {
          "base_uri": "https://localhost:8080/"
        },
        "id": "fAf7ljKHRdoP",
        "outputId": "65ac3196-e00a-4183-e2a4-238cf34e0f2a"
      },
      "execution_count": null,
      "outputs": [
        {
          "output_type": "stream",
          "name": "stdout",
          "text": [
            "Enter Sample String: string\n",
            "Sample String: stringily\n"
          ]
        }
      ]
    },
    {
      "cell_type": "code",
      "source": [
        "#problem 4\n",
        "string=input(\"Sample String:\")\n",
        "not_index=string.find('not')\n",
        "poor_index=string.find('poor')\n",
        "if not_index != -1 and poor_index != -1 and poor_index > not_index:\n",
        "  x=string[:not_index] + 'good' + string[poor_index+4:]\n",
        "  print(x)\n",
        "else:\n",
        "  print(string)\n"
      ],
      "metadata": {
        "colab": {
          "base_uri": "https://localhost:8080/"
        },
        "id": "wFiHrSxDVWrn",
        "outputId": "1ef27d15-6291-4ac6-de08-c5414c5be56e"
      },
      "execution_count": null,
      "outputs": [
        {
          "output_type": "stream",
          "name": "stdout",
          "text": [
            "Sample String:The lyrics is not that poor!\n",
            "The lyrics is good!\n"
          ]
        }
      ]
    },
    {
      "cell_type": "code",
      "source": [
        "#problem 5\n",
        "def compute_pay(hours,rate):\n",
        "      if hours<=40:\n",
        "        return hours*rate\n",
        "      else:\n",
        "        extra_hours=hours-40\n",
        "        extra_rate=rate*1.5\n",
        "        normal_day_pay=40*rate\n",
        "        overtime_pay=extra_hours*extra_rate\n",
        "        return normal_day_pay+ overtime_pay\n",
        "hours=float(input(\"Enter Hours: \"))\n",
        "rate=float(input(\"Enter Rate: \"))\n",
        "gross_pay=compute_pay(hours,rate)\n",
        "print(\"Pay: \",gross_pay)\n"
      ],
      "metadata": {
        "colab": {
          "base_uri": "https://localhost:8080/"
        },
        "id": "We_WB5sjXxu_",
        "outputId": "853472e2-b3f4-4cd2-e815-953e92d7e512"
      },
      "execution_count": null,
      "outputs": [
        {
          "output_type": "stream",
          "name": "stdout",
          "text": [
            "Enter Hours: 45\n",
            "Enter Rate: 10\n",
            "Pay:  475.0\n"
          ]
        }
      ]
    },
    {
      "cell_type": "code",
      "source": [
        "#problem 6\n",
        "def computegrade(score):\n",
        "          try:\n",
        "              score = float(score)\n",
        "              if score>0 and score<1:\n",
        "                grade = 'F'\n",
        "                if score >= 0.9:\n",
        "                    return 'A'\n",
        "                elif score >= 0.8:\n",
        "                    return 'B'\n",
        "                elif score >= 0.7:\n",
        "                    return 'C'\n",
        "                elif score >= 0.6:\n",
        "                    return 'D'\n",
        "               # print(f\"Score Grade:{grade}\")\n",
        "              else:\n",
        "                return \"Bad Score\"\n",
        "          except ValueError:\n",
        "              return 'Bad Score'\n",
        "score=input(\"Enter a score : \")\n",
        "grade=computegrade(score)\n",
        "print(grade)\n"
      ],
      "metadata": {
        "colab": {
          "base_uri": "https://localhost:8080/"
        },
        "id": "Ejhi8N5qXx3G",
        "outputId": "6770fad4-8567-4966-ba47-996f4cb7a278"
      },
      "execution_count": null,
      "outputs": [
        {
          "output_type": "stream",
          "name": "stdout",
          "text": [
            "Enter a score : perfect\n",
            "Bad Score\n"
          ]
        }
      ]
    },
    {
      "cell_type": "code",
      "source": [],
      "metadata": {
        "id": "qol2RSbkbFyt"
      },
      "execution_count": null,
      "outputs": []
    }
  ]
}
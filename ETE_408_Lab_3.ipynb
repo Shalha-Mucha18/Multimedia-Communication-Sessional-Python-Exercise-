{
  "nbformat": 4,
  "nbformat_minor": 0,
  "metadata": {
    "colab": {
      "provenance": [],
      "gpuType": "T4",
      "authorship_tag": "ABX9TyO+Q0P4bNvZhJuOpZmCGECp",
      "include_colab_link": true
    },
    "kernelspec": {
      "name": "python3",
      "display_name": "Python 3"
    },
    "language_info": {
      "name": "python"
    },
    "accelerator": "GPU"
  },
  "cells": [
    {
      "cell_type": "markdown",
      "metadata": {
        "id": "view-in-github",
        "colab_type": "text"
      },
      "source": [
        "<a href=\"https://colab.research.google.com/github/Shalha-Mucha18/Multimedia-Communication-Sessional-Python-Exercise-/blob/main/ETE_408_Lab_3.ipynb\" target=\"_parent\"><img src=\"https://colab.research.google.com/assets/colab-badge.svg\" alt=\"Open In Colab\"/></a>"
      ]
    },
    {
      "cell_type": "code",
      "source": [
        "'''problem 1 Write a program that repeatedly reads numbers until the user enters “done”.\n",
        "Once “done” is entered, print out the total, count, and average of the\n",
        "numbers. If the user enters anything other than a number, detect their\n",
        "mistake using try and except and print an error message and skip to the\n",
        "next number.'''\n",
        "count=0\n",
        "sum=0\n",
        "while True:\n",
        " user_input=input(\"Enter your number: \") \n",
        " if user_input=='done':\n",
        "   break       \n",
        " try:\n",
        "   num=float(user_input)\n",
        " except ValueError :\n",
        "    print('Invalid number ')\n",
        "    continue\n",
        " count+=1\n",
        " sum+=num   \n",
        "if count>0:\n",
        "  avg=sum/count\n",
        "  print(f'Total:{sum}')  \n",
        "  print(f'Count:{count}')\n",
        "  print(f'Average :{avg}')\n",
        "else:\n",
        "  print('No number')      \n"
      ],
      "metadata": {
        "colab": {
          "base_uri": "https://localhost:8080/"
        },
        "id": "TxZvSqZOTZoo",
        "outputId": "2f0511c7-7124-403a-8ce2-1dcd055d8103"
      },
      "execution_count": 36,
      "outputs": [
        {
          "output_type": "stream",
          "name": "stdout",
          "text": [
            "Enter your number: 4\n",
            "Enter your number: 5\n",
            "Enter your number: bad data\n",
            "Invalid number \n",
            "Enter your number: 7\n",
            "Enter your number: done\n",
            "Total:16.0\n",
            "Count:3\n",
            "Average :5.333333333333333\n"
          ]
        }
      ]
    },
    {
      "cell_type": "code",
      "source": [
        "'''problem 2 Write a program to prompt for a score between 0.0 and 1.0. If the score is\n",
        "out of range, print an error message. If the score is between 0.0 and 1.0,\n",
        "print a grade using the following table:\n",
        "Score Grade\n",
        ">= 0.9 A >= 0.8 B\n",
        ">= 0.7 C\n",
        ">= 0.6 D\n",
        "< 0.6 F'''\n",
        "score_user=input(\"Enter Score:\")\n",
        "try:\n",
        "    score = float(score_user)\n",
        "    if score>0 and score<1:    \n",
        "      grade = 'F'\n",
        "      if score >= 0.9:\n",
        "          grade= 'A'\n",
        "      elif score >= 0.8:\n",
        "          grade = 'B'\n",
        "      elif score >= 0.7:\n",
        "          grade = 'C'\n",
        "      elif score >= 0.6:\n",
        "          grade = 'D'\n",
        "      print(f\"Score Grade:{grade}\")\n",
        "    else:\n",
        "      print(\"Bad Score\")  \n",
        "except ValueError:\n",
        "    print('Bad Score')    \n",
        "   \n"
      ],
      "metadata": {
        "colab": {
          "base_uri": "https://localhost:8080/"
        },
        "id": "Pikm9ze8g6kB",
        "outputId": "68c5ad09-7530-4698-abc9-8ee28abde22a"
      },
      "execution_count": 30,
      "outputs": [
        {
          "output_type": "stream",
          "name": "stdout",
          "text": [
            "Enter Score:perfect\n",
            "Bad Score\n"
          ]
        }
      ]
    },
    {
      "cell_type": "code",
      "source": [
        "''' problem 3 Write a Python program to find those numbers which are divisible by 7 and\n",
        "multiple of 5, between 1500 and 2700 (both included).'''\n",
        "num=[]\n",
        "for i in range(1500,2701):\n",
        "  if i%7==0 and i%5==0:\n",
        "    num.append(i)\n",
        "print('Numbers divisible by 7 and multiples of 5')\n",
        "print(num[:10])    "
      ],
      "metadata": {
        "id": "Yc-hRo8ug6lN",
        "colab": {
          "base_uri": "https://localhost:8080/"
        },
        "outputId": "d73d9fd1-dbc3-417a-f5e0-249795a2df48"
      },
      "execution_count": 31,
      "outputs": [
        {
          "output_type": "stream",
          "name": "stdout",
          "text": [
            "Numbers divisible by 7 and multiples of 5\n",
            "[1505, 1540, 1575, 1610, 1645, 1680, 1715, 1750, 1785, 1820]\n"
          ]
        }
      ]
    },
    {
      "cell_type": "code",
      "source": [
        "''' problem 4 . Write a Python program that prints all the numbers from 0 to 6 except 3\n",
        "and 6'''\n",
        "for n in range(7):\n",
        "  if n==3 or n==6:\n",
        "    continue\n",
        "  print(n)  "
      ],
      "metadata": {
        "colab": {
          "base_uri": "https://localhost:8080/"
        },
        "id": "WYGw-Hbvvvcr",
        "outputId": "ce4d881f-daf4-4aa7-8bb2-65cc6d6c7f3f"
      },
      "execution_count": 32,
      "outputs": [
        {
          "output_type": "stream",
          "name": "stdout",
          "text": [
            "0\n",
            "1\n",
            "2\n",
            "4\n",
            "5\n"
          ]
        }
      ]
    },
    {
      "cell_type": "code",
      "source": [
        "''' problem 5 Write a Python program to get the Fibonacci series between 0 to 50'''\n",
        "Fibonacci_series=[]\n",
        "num1, num2 = 0, 1\n",
        "while num1 <= 50:\n",
        "    Fibonacci_series.append(num1)\n",
        "    num1, num2 = num2, num1 + num2\n",
        "print(\"Fibonacci series:\",Fibonacci_series )    \n"
      ],
      "metadata": {
        "colab": {
          "base_uri": "https://localhost:8080/"
        },
        "id": "00KsP0VfxziS",
        "outputId": "3ab0bf81-7a9b-4c5d-b1b9-a5aaae1f6fd2"
      },
      "execution_count": 38,
      "outputs": [
        {
          "output_type": "stream",
          "name": "stdout",
          "text": [
            "Fibonacci series: [0, 1, 1, 2, 3, 5, 8, 13, 21, 34]\n"
          ]
        }
      ]
    },
    {
      "cell_type": "code",
      "source": [
        "''' problem 6 Write a program to display all prime numbers within a range'''\n",
        "prime_number=[]\n",
        "lower_value=int(input(\"Enter lower value:\"))\n",
        "upper_value=int(input(\"Enter upper value\"))\n",
        "for number in range (lower_value, upper_value + 1):  \n",
        "    if number > 1:  \n",
        "        for i in range (2, number):  \n",
        "            if (number % i) == 0:  \n",
        "                break  \n",
        "        else:  \n",
        "            prime_number.append(number)    \n",
        "print(\"Prime Number:\",prime_number)            \n"
      ],
      "metadata": {
        "colab": {
          "base_uri": "https://localhost:8080/"
        },
        "id": "4FEyYHqN0c9Z",
        "outputId": "02a61432-5304-4a8c-db44-c89e0ad458c7"
      },
      "execution_count": 39,
      "outputs": [
        {
          "output_type": "stream",
          "name": "stdout",
          "text": [
            "Enter lower value:50\n",
            "Enter upper value100\n",
            "Prime Number: [53, 59, 61, 67, 71, 73, 79, 83, 89, 97]\n"
          ]
        }
      ]
    },
    {
      "cell_type": "code",
      "source": [
        "''' problem 7: Write a program to accept a number from a user and calculate the sum of\n",
        "all numbers from 1 to a given number'''\n",
        "num=int(input(\"Enter your number:\"))\n",
        "sum=0\n",
        "for i in range(1,num+1):\n",
        "  sum+=i\n",
        "print(\"The sum of all numbers from 1 to\", num, \"is:\", sum)  "
      ],
      "metadata": {
        "colab": {
          "base_uri": "https://localhost:8080/"
        },
        "id": "jjWyyDIJ1-ma",
        "outputId": "15e29208-28bf-4d61-9ec2-4f21ee8b7c8b"
      },
      "execution_count": 35,
      "outputs": [
        {
          "output_type": "stream",
          "name": "stdout",
          "text": [
            "Enter your number:10\n",
            "The sum of all numbers from 1 to 10 is: 55\n"
          ]
        }
      ]
    }
  ]
}
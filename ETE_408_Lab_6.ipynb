{
  "nbformat": 4,
  "nbformat_minor": 0,
  "metadata": {
    "colab": {
      "provenance": [],
      "authorship_tag": "ABX9TyMPUC5khezm/avxs/CsoPW7",
      "include_colab_link": true
    },
    "kernelspec": {
      "name": "python3",
      "display_name": "Python 3"
    },
    "language_info": {
      "name": "python"
    }
  },
  "cells": [
    {
      "cell_type": "markdown",
      "metadata": {
        "id": "view-in-github",
        "colab_type": "text"
      },
      "source": [
        "<a href=\"https://colab.research.google.com/github/Shalha-Mucha18/Multimedia-Communication-Sessional-Python-Exercise-/blob/main/ETE_408_Lab_6.ipynb\" target=\"_parent\"><img src=\"https://colab.research.google.com/assets/colab-badge.svg\" alt=\"Open In Colab\"/></a>"
      ]
    },
    {
      "cell_type": "code",
      "execution_count": null,
      "metadata": {
        "colab": {
          "base_uri": "https://localhost:8080/"
        },
        "id": "o00Rm4pVTOfD",
        "outputId": "2390d12d-23da-4863-cfe7-203bbaea8943"
      },
      "outputs": [
        {
          "output_type": "stream",
          "name": "stdout",
          "text": [
            "Enter a file name: mbox-short.txt\n",
            "Occurrences of each day of the week:\n",
            "{'Sat': 1, 'Fri': 20, 'Thu': 6}\n"
          ]
        }
      ],
      "source": [
        "# Practice Exercise 01\n",
        "def categorize_by_day(filename):\n",
        "    days_count = {}\n",
        "    try:\n",
        "        with open(filename, 'r') as file:\n",
        "            for line in file:\n",
        "                if line.startswith('From '):\n",
        "                    words = line.split()\n",
        "                    if len(words) >= 3:\n",
        "                        day = words[2]\n",
        "                        days_count[day] = days_count.get(day, 0) + 1\n",
        "    except FileNotFoundError:\n",
        "        print(\"File not found.\")\n",
        "        return\n",
        "    print(\"Occurrences of each day of the week:\")\n",
        "    print(days_count)\n",
        "if __name__ == \"__main__\":\n",
        "    file_name = input(\"Enter a file name: \")\n",
        "    categorize_by_day(file_name)"
      ]
    },
    {
      "cell_type": "code",
      "source": [
        "# Practice Exercise 02:\n",
        "def build_histogram(file_name):\n",
        "    email_histogram = {}\n",
        "    try:\n",
        "        with open(file_name, 'r') as file:\n",
        "            for line in file:\n",
        "                if line.startswith('From '):\n",
        "                    email = line.split()[1]\n",
        "                    email_histogram[email] = email_histogram.get(email, 0) + 1\n",
        "    except FileNotFoundError:\n",
        "        print(\"File not found.\")\n",
        "        return None\n",
        "    return email_histogram\n",
        "def print_histogram(histogram):\n",
        "    for email, count in histogram.items():\n",
        "        print(f\"'{email}': {count}\")\n",
        "def main():\n",
        "    file_name = input(\"Enter file name: \")\n",
        "    histogram = build_histogram(file_name)\n",
        "    if histogram:\n",
        "        print_histogram(histogram)\n",
        "if __name__ == \"__main__\":\n",
        "    main()"
      ],
      "metadata": {
        "colab": {
          "base_uri": "https://localhost:8080/"
        },
        "id": "4WkhC1bnU5mH",
        "outputId": "a15971df-d3f2-4a9d-b5a5-39e11b68c58f"
      },
      "execution_count": null,
      "outputs": [
        {
          "output_type": "stream",
          "name": "stdout",
          "text": [
            "Enter file name: mbox-short.txt\n",
            "'stephen.marquard@uct.ac.za': 2\n",
            "'louis@media.berkeley.edu': 3\n",
            "'zqian@umich.edu': 4\n",
            "'rjlowe@iupui.edu': 2\n",
            "'cwen@iupui.edu': 5\n",
            "'gsilver@umich.edu': 3\n",
            "'wagnermr@iupui.edu': 1\n",
            "'antranig@caret.cam.ac.uk': 1\n",
            "'gopal.ramasammycook@gmail.com': 1\n",
            "'david.horwitz@uct.ac.za': 4\n",
            "'ray@media.berkeley.edu': 1\n"
          ]
        }
      ]
    },
    {
      "cell_type": "code",
      "source": [
        "# Practice Exercise 03:\n",
        "def count_messages(filename):\n",
        "    try:\n",
        "        file_handle = open(filename)\n",
        "    except FileNotFoundError:\n",
        "        print(\"File not found:\", filename)\n",
        "        return\n",
        "    email_counts = {}\n",
        "    for line in file_handle:\n",
        "        if line.startswith(\"From \"):\n",
        "            words = line.split()\n",
        "            email = words[1]\n",
        "            email_counts[email] = email_counts.get(email, 0) + 1\n",
        "    file_handle.close()\n",
        "    if not email_counts:\n",
        "        print(\"No data found in the file.\")\n",
        "        return\n",
        "    max_count = None\n",
        "    max_email = None\n",
        "    for email, count in email_counts.items():\n",
        "        if max_count is None or count > max_count:\n",
        "            max_count = count\n",
        "            max_email = email\n",
        "    print(max_email, max_count)\n",
        "def main():\n",
        "    filename = input(\"Enter a file name: \")\n",
        "    count_messages(filename)\n",
        "if __name__ == \"__main__\":\n",
        "    main()"
      ],
      "metadata": {
        "colab": {
          "base_uri": "https://localhost:8080/"
        },
        "id": "lWBPNlPbViuN",
        "outputId": "264a4cce-fc3f-4f7a-d8f0-9c5878cf999b"
      },
      "execution_count": null,
      "outputs": [
        {
          "output_type": "stream",
          "name": "stdout",
          "text": [
            "Enter a file name: mbox-short.txt\n",
            "cwen@iupui.edu 5\n"
          ]
        }
      ]
    },
    {
      "cell_type": "code",
      "source": [
        "# Practice Exercise 04:\n",
        "def extract_domain(email):\n",
        "    return email.split('@')[-1]\n",
        "def count_domains(filename):\n",
        "    domain_counts = {}\n",
        "    try:\n",
        "        with open(filename, 'r') as file:\n",
        "            for line in file:\n",
        "                if line.startswith('From '):\n",
        "                    email_address = line.split()[1]\n",
        "                    domain = extract_domain(email_address)\n",
        "                    domain_counts[domain] = domain_counts.get(domain, 0) + 1\n",
        "    except FileNotFoundError:\n",
        "        print(\"File not found.\")\n",
        "    return domain_counts\n",
        "def print_domain_counts(domain_counts):\n",
        "    for domain, count in domain_counts.items():\n",
        "        print(f\"'{domain}': {count},\")\n",
        "if __name__ == \"__main__\":\n",
        "    file_name = input(\"Enter a file name: \")\n",
        "    domain_counts = count_domains(file_name)\n",
        "    print_domain_counts(domain_counts)"
      ],
      "metadata": {
        "colab": {
          "base_uri": "https://localhost:8080/"
        },
        "id": "lwotdKwXWJB-",
        "outputId": "deeb1d17-e750-48cf-c454-a81d3c5cb6d4"
      },
      "execution_count": null,
      "outputs": [
        {
          "output_type": "stream",
          "name": "stdout",
          "text": [
            "Enter a file name: mbox-short.txt\n",
            "'uct.ac.za': 6,\n",
            "'media.berkeley.edu': 4,\n",
            "'umich.edu': 7,\n",
            "'iupui.edu': 8,\n",
            "'caret.cam.ac.uk': 1,\n",
            "'gmail.com': 1,\n"
          ]
        }
      ]
    },
    {
      "cell_type": "code",
      "source": [
        "# Practice Exercise 05:\n",
        "def count_commits(filename):\n",
        "    commit_counts = {}\n",
        "    try:\n",
        "        with open(filename, 'r') as file:\n",
        "            for line in file:\n",
        "                if line.startswith('From '):\n",
        "                    email_address = line.split()[1]\n",
        "                    commit_counts[email_address] = commit_counts.get(email_address, 0) + 1\n",
        "    except FileNotFoundError:\n",
        "        print(\"File not found.\")\n",
        "    return commit_counts\n",
        "def print_most_commits(commit_counts):\n",
        "    if not commit_counts:\n",
        "        print(\"No commits found.\")\n",
        "        return\n",
        "    sorted_commits = sorted([(count, email) for email, count in commit_counts.items()], reverse=True)\n",
        "    most_commits = sorted_commits[0]\n",
        "    print(f\"{most_commits[1]} {most_commits[0]}\")\n",
        "if __name__ == \"__main__\":\n",
        "    file_name = input(\"Enter a file name: \")\n",
        "    commit_counts = count_commits(file_name)\n",
        "    print_most_commits(commit_counts)"
      ],
      "metadata": {
        "colab": {
          "base_uri": "https://localhost:8080/"
        },
        "id": "BCpEKwdcY9OF",
        "outputId": "5a291bf9-1943-47bf-8a0d-0cd292eaeb48"
      },
      "execution_count": null,
      "outputs": [
        {
          "output_type": "stream",
          "name": "stdout",
          "text": [
            "Enter a file name: /content/mbox-short .txt\n",
            "cwen@iupui.edu 5\n"
          ]
        }
      ]
    },
    {
      "cell_type": "code",
      "source": [
        "#Practice exercise 6\n",
        "hour_counts = {}\n",
        "file_name = input(\"Enter a file name: \")\n",
        "try:\n",
        "    with open(file_name, 'r') as file:\n",
        "        for line in file:\n",
        "            if line.startswith(\"From \"):\n",
        "                words = line.split()\n",
        "                if len(words) >= 6:\n",
        "                    time_str = words[5]\n",
        "                    time_parts = time_str.split(':')\n",
        "                    if len(time_parts) == 3:\n",
        "                        hour = time_parts[0]\n",
        "                        hour_counts[hour] = hour_counts.get(hour, 0) + 1\n",
        "except FileNotFoundError:\n",
        "    print(\"File not found:\", file_name)\n",
        "for hour, count in sorted(hour_counts.items()):\n",
        "    print(f\"{hour} {count}\")\n",
        "\n"
      ],
      "metadata": {
        "colab": {
          "base_uri": "https://localhost:8080/"
        },
        "id": "PXlP9Po7ON7R",
        "outputId": "097b6246-d302-42c3-f71f-feb0541da5f7"
      },
      "execution_count": null,
      "outputs": [
        {
          "output_type": "stream",
          "name": "stdout",
          "text": [
            "Enter a file name: /content/mbox-short .txt\n",
            "04 3\n",
            "06 1\n",
            "07 1\n",
            "09 2\n",
            "10 3\n",
            "11 6\n",
            "14 1\n",
            "15 2\n",
            "16 4\n",
            "17 2\n",
            "18 1\n",
            "19 1\n"
          ]
        }
      ]
    }
  ]
}
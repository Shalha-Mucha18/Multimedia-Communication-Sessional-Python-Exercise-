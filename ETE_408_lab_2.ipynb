{
  "nbformat": 4,
  "nbformat_minor": 0,
  "metadata": {
    "colab": {
      "provenance": [],
      "authorship_tag": "ABX9TyNl0MVdsLX624x4VRrImc+M",
      "include_colab_link": true
    },
    "kernelspec": {
      "name": "python3",
      "display_name": "Python 3"
    },
    "language_info": {
      "name": "python"
    }
  },
  "cells": [
    {
      "cell_type": "markdown",
      "metadata": {
        "id": "view-in-github",
        "colab_type": "text"
      },
      "source": [
        "<a href=\"https://colab.research.google.com/github/Shalha-Mucha18/Multimedia-Communication-Sessional-Python-Exercise-/blob/main/ETE_408_lab_2.ipynb\" target=\"_parent\"><img src=\"https://colab.research.google.com/assets/colab-badge.svg\" alt=\"Open In Colab\"/></a>"
      ]
    },
    {
      "cell_type": "code",
      "execution_count": null,
      "metadata": {
        "id": "-0ci7-jxdS3V",
        "colab": {
          "base_uri": "https://localhost:8080/"
        },
        "outputId": "3849e307-ba8e-4628-bde7-00e086d3c10f"
      },
      "outputs": [
        {
          "output_type": "stream",
          "name": "stdout",
          "text": [
            "Enter Hours: 45\n",
            "Enter Rate: 10\n",
            "Pay:  475.0\n"
          ]
        }
      ],
      "source": [
        "'''problem 01:Write a program to prompt the user for hours and rate per hour to compute\n",
        "gross pay. However, the employee who worked above 40 hours gives them\n",
        "1.5 times the hourly rate for individual hours.'''\n",
        "hours=float(input(\"Enter Hours: \"))\n",
        "rate=float(input(\"Enter Rate: \"))\n",
        "if hours<=40:\n",
        "  gross_pay=hours*rate\n",
        "else:\n",
        "  extra_hours=hours-40\n",
        "  extra_rate=rate*1.5\n",
        "  normal_day_pay=40*rate\n",
        "  overtime_pay=extra_hours*extra_rate\n",
        "  gross_pay=normal_day_pay+ overtime_pay\n",
        "print(\"Pay: \",gross_pay)  \n"
      ]
    },
    {
      "cell_type": "code",
      "source": [
        "'''problem 02. A company decided to give a bonus of 5% to an employee if his/her year\n",
        "of service is more than 5 years. Ask the user for their salary and year of\n",
        "service and print the net bonus amount'''\n",
        "salary=float(input(\"Enter your salary: \"))\n",
        "years=float(input(\"Enter your years of service: \"))\n",
        "if years>5:\n",
        "  bonus=salary*0.05\n",
        "else:\n",
        "  bonus=0  \n",
        "print(\"Net Bonus:\",bonus)  \n"
      ],
      "metadata": {
        "colab": {
          "base_uri": "https://localhost:8080/"
        },
        "id": "Khg7o3zf89L_",
        "outputId": "d9eb15a9-d5a7-4d6b-f2ad-feb42d99fa30"
      },
      "execution_count": null,
      "outputs": [
        {
          "output_type": "stream",
          "name": "stdout",
          "text": [
            "Enter your salary: 50000\n",
            "Enter your years of service: 8\n",
            "Net Bonus: 2500.0\n"
          ]
        }
      ]
    },
    {
      "cell_type": "code",
      "source": [
        "'''problem 03:Take values of the length and breadth of a rectangle from the user and\n",
        "check if it is square or not.'''\n",
        "length=float(input(\"Enter the length of the rectangle: \"))\n",
        "breadth=float(input(\"Enter the breadth of the rectangle: \"))\n",
        "if length==breadth:\n",
        "  print('The rectangle is a square.')\n",
        "else:\n",
        "  print(\"The rectangle is not a square\")  "
      ],
      "metadata": {
        "colab": {
          "base_uri": "https://localhost:8080/"
        },
        "id": "y7OHvgR5_r1-",
        "outputId": "05d2b0f3-e63e-416c-c3be-c0834c50951f"
      },
      "execution_count": null,
      "outputs": [
        {
          "output_type": "stream",
          "name": "stdout",
          "text": [
            "Enter the length of the rectangle: 10\n",
            "Enter the breadth of the rectangle: 10\n",
            "The rectangle is a square.\n"
          ]
        }
      ]
    },
    {
      "cell_type": "code",
      "source": [
        "# problem 04 :Take two int values from the user and print the greatest among them.\n",
        "a = float(input(\"Enter the first number: \"))\n",
        "b = float(input(\"Enter the second number: \"))\n",
        "if a > b:\n",
        "    print(\"The greatest integer is:\", a)\n",
        "else:\n",
        "    print(\"The greatest integer is \", b)"
      ],
      "metadata": {
        "colab": {
          "base_uri": "https://localhost:8080/"
        },
        "id": "bU2JG3uEAMXN",
        "outputId": "1e872433-1c83-4b6a-ed49-4b9392d4f1b2"
      },
      "execution_count": null,
      "outputs": [
        {
          "output_type": "stream",
          "name": "stdout",
          "text": [
            "Enter the first number: 0.999999\n",
            "Enter the second number: 0.1111\n",
            "The greatest integer is: 0.999999\n"
          ]
        }
      ]
    },
    {
      "cell_type": "code",
      "source": [
        "'''problem 05:A shop will give a discount of 10% if the cost of the purchased quantity is\n",
        "more than 1000. Ask the user for quantity Suppose, one unit will cost 100.\n",
        "Judge and print the total cost for the user.'''\n",
        "iteam=int(input('Enter quantity of units: '))\n",
        "unit_price=100\n",
        "total_cost=iteam*unit_price\n",
        "if total_cost>1000:\n",
        "  offer_price=total_cost*0.1\n",
        "  total_cost=total_cost-offer_price\n",
        "\n",
        "  print('The total cost for the user is '+str(total_cost)+ \" Taka\")\n",
        "else:    \n",
        "  print('The total cost for the user is '+str(total_cost)+ \" Taka\")  \n"
      ],
      "metadata": {
        "colab": {
          "base_uri": "https://localhost:8080/"
        },
        "id": "_Kl7KDpigVft",
        "outputId": "946cd31c-4aed-48a7-a212-80d016c4c089"
      },
      "execution_count": null,
      "outputs": [
        {
          "output_type": "stream",
          "name": "stdout",
          "text": [
            "Enter quantity of units: 13\n",
            "The total cost for the user is 1170.0 Taka\n"
          ]
        }
      ]
    },
    {
      "cell_type": "code",
      "source": [
        "''' problem 06:\n",
        "A school has the following rules for the grading system:\n",
        "a. Below 25 - F\n",
        "b. 25 to 45 - E\n",
        "c. 45 to 50 - D\n",
        "d. 50 to 60 - C\n",
        "e. 60 to 80 - B\n",
        "f. Above 80 - A\n",
        "Ask the user to enter marks and print the corresponding grade\n",
        "'''\n",
        "marks=float(input(\"Enter your marks: \"))\n",
        "if marks<25:\n",
        "  grades=\"F\"\n",
        "elif marks<45:\n",
        "     grade=\"E\"\n",
        "elif marks <50:\n",
        "     grade=\"D\"\n",
        "elif marks<60:\n",
        "     grade=\"C\"\n",
        "elif marks <80:\n",
        "     grade=\"B\"\n",
        "elif marks <80:\n",
        "     grade=\"A\"\n",
        "print(\"Grade is \",grade)                           "
      ],
      "metadata": {
        "id": "2PAk59JSBgFN",
        "colab": {
          "base_uri": "https://localhost:8080/"
        },
        "outputId": "13062612-8826-4a72-feb7-aa8bef13d354"
      },
      "execution_count": null,
      "outputs": [
        {
          "output_type": "stream",
          "name": "stdout",
          "text": [
            "Enter your marks: 70\n",
            "Grade is  B\n"
          ]
        }
      ]
    },
    {
      "cell_type": "code",
      "source": [
        "#problem 07:Take input of age of 3 people by the user and determine oldest and youngest among them\n",
        "x=int(input(\"Enter the age of first person: \"))\n",
        "y=int(input(\"Enter the age of second person: \"))\n",
        "z=int(input(\"Enter the age of third person: \"))\n",
        "oldest=max(x,y,z)\n",
        "youngest=min(x,y,z)\n",
        "print(\"Oldest person's age:\",oldest)\n",
        "print(\"youngest person's age:\",youngest)"
      ],
      "metadata": {
        "id": "rligzNgmVnNN",
        "colab": {
          "base_uri": "https://localhost:8080/"
        },
        "outputId": "34e7f865-8503-436a-cfa6-b8e0135031bb"
      },
      "execution_count": null,
      "outputs": [
        {
          "output_type": "stream",
          "name": "stdout",
          "text": [
            "Enter the age of first person: 10\n",
            "Enter the age of second person: 5\n",
            "Enter the age of third person: 50\n",
            "Oldest person's age: 50\n",
            "youngest person's age: 5\n"
          ]
        }
      ]
    },
    {
      "cell_type": "code",
      "source": [
        "'''problem 08:\n",
        "A student will not be allowed to sit in an exam if his/her attendance is less\n",
        "than 75%. Take the following input from the user:\n",
        "Number of classes held\n",
        "The number of classes attended\n",
        "And print the percentage of classes attended. Is the student allowed to sit\n",
        "in an exam or not?'''\n",
        "classes=int(input(\"Enter the total number of classes held:\"))\n",
        "attend_classes=int(input(\"Enter the number of classes attended: \"))\n",
        "attendance_percentage=(attend_classes*100)/classes\n",
        "print(\"Attendance Percentage:\", int(attendance_percentage))\n",
        "if attendance_percentage<75:\n",
        "  print(\"The student is not allowed to sit in the exam.\")\n",
        "else:\n",
        "  print(\"The student is allowed to sit in the exam.\")  "
      ],
      "metadata": {
        "id": "mp9hZUTX5ok2",
        "colab": {
          "base_uri": "https://localhost:8080/"
        },
        "outputId": "6aa1f0f5-24c5-4385-af27-0d4710fde1e2"
      },
      "execution_count": null,
      "outputs": [
        {
          "output_type": "stream",
          "name": "stdout",
          "text": [
            "Enter the total number of classes held:39\n",
            "Enter the number of classes attended: 20\n",
            "Attendance Percentage: 51\n",
            "The student is not allowed to sit in the exam.\n"
          ]
        }
      ]
    },
    {
      "cell_type": "code",
      "source": [
        "'''Problem 09:\n",
        "Modify the above question to allow a student to sit if he/she has a medical\n",
        "cause. Ask the user if he/she has a medical cause or not (Y or N) and\n",
        "print accordingly.\n",
        "'''\n",
        "classes=int(input(\"Enter the total number of classes held:\"))\n",
        "attend_classes=int(input(\"Enter the number of classes attended: \"))\n",
        "attendance_percentage=(attend_classes*100)/classes\n",
        "medical_cause = input(\"Does the student have a medical cause? (Y/N): \")\n",
        "\n",
        "print(\"Attendance Percentage:\", int(attendance_percentage))\n",
        "\n",
        "if attendance_percentage>75 or medical_cause==\"Y\":\n",
        "  print(\"The student is  allowed to sit in the exam.\")\n",
        "else:\n",
        "  print(\"The student is not  allowed to sit in the exam.\")  \n"
      ],
      "metadata": {
        "colab": {
          "base_uri": "https://localhost:8080/"
        },
        "id": "mJqHREfiAWbr",
        "outputId": "8d818065-537b-4f9e-8c57-01b7f17d3202"
      },
      "execution_count": null,
      "outputs": [
        {
          "output_type": "stream",
          "name": "stdout",
          "text": [
            "Enter the total number of classes held:50\n",
            "Enter the number of classes attended: 40\n",
            "Does the student have a medical cause? (Y/N): N\n",
            "Attendance Percentage: 80\n",
            "The student is  allowed to sit in the exam.\n"
          ]
        }
      ]
    },
    {
      "cell_type": "code",
      "source": [
        "#problem 10:Sort three numbers in ascending and descending order using conditional statements.\n",
        "\n",
        "num1=float(input(\"Enter the first number:\"))\n",
        "num2=float(input(\"Enter the second number:\"))\n",
        "num3=float(input(\"Enter the third number:\"))\n",
        "#ascending order\n",
        "if num1 <= num2 and num1 <= num3:\n",
        "    smallest = num1\n",
        "    if num2 <= num3:\n",
        "        middle = num2\n",
        "        largest = num3\n",
        "    else:\n",
        "        middle = num3\n",
        "        largest = num2\n",
        "elif num2 <= num1 and num2 <= num3:\n",
        "    smallest = num2\n",
        "    if num1 <= num3:\n",
        "        middle = num1\n",
        "        largest = num3\n",
        "    else:\n",
        "        middle = num3\n",
        "        largest = num1\n",
        "else:\n",
        "    smallest = num3\n",
        "    if num1 <= num2:\n",
        "        middle = num1\n",
        "        largest = num2\n",
        "    else:\n",
        "        middle = num2\n",
        "        largest = num1\n",
        "\n",
        "print(\"Ascending order: \", smallest, middle, largest)\n",
        "#descending order\n",
        "if num1 >= num2 and num1 >= num3:\n",
        "    largest = num1\n",
        "    if num2 >= num3:\n",
        "        middle = num2\n",
        "        smallest = num3\n",
        "    else:\n",
        "        middle = num3\n",
        "        smallest = num2\n",
        "elif num2 >= num1 and num2 >= num3:\n",
        "    largest = num2\n",
        "    if num1 >= num3:\n",
        "        middle = num1\n",
        "        smallest = num3\n",
        "    else:\n",
        "        middle = num3\n",
        "        smallest = num1\n",
        "else:\n",
        "    largest = num3\n",
        "    if num1 >= num2:\n",
        "        middle = num1\n",
        "        smallest = num2\n",
        "    else:\n",
        "        middle = num2\n",
        "        smallest = num1\n",
        "\n",
        "print(\"Descending order: \", largest, middle, smallest)"
      ],
      "metadata": {
        "id": "rXk-HKekF0zQ",
        "colab": {
          "base_uri": "https://localhost:8080/"
        },
        "outputId": "a82c0a7b-9443-4853-bbec-3794d10feaaf"
      },
      "execution_count": null,
      "outputs": [
        {
          "output_type": "stream",
          "name": "stdout",
          "text": [
            "Enter the first number:3.99\n",
            "Enter the second number:2\n",
            "Enter the third number:4.99\n",
            "Ascending order:  2.0 3.99 4.99\n",
            "Descending order:  4.99 3.99 2.0\n"
          ]
        }
      ]
    }
  ]
}